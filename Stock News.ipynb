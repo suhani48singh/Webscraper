{
 "cells": [
  {
   "cell_type": "code",
   "execution_count": 1,
   "id": "32f81d10",
   "metadata": {},
   "outputs": [],
   "source": [
    "import requests\n",
    "import bs4\n",
    "from bs4 import BeautifulSoup\n",
    "\n",
    "url='https://economictimes.indiatimes.com/markets/commodities/news'\n",
    "\n",
    "headers= {\n",
    "    'user agent': \"Mozilla/5.0 (Windows NT 10.0; Win64; x64) AppleWebKit/537.36 (KHTML, like Gecko) Chrome/90.0.4430.212 Safari/537.36\"\n",
    "\n",
    "}"
   ]
  },
  {
   "cell_type": "code",
   "execution_count": 2,
   "id": "a937d899",
   "metadata": {},
   "outputs": [],
   "source": [
    "def getnews():\n",
    "    r = requests.get(url,{'headers': headers})\n",
    "\n",
    "    soup= bs4.BeautifulSoup(r.text,'html.parser')\n",
    "\n",
    "    soup.find_all('div',{'class':'eachStory'})[0].find_all('a')[-1].text\n",
    "\n",
    "    i=0\n",
    "    length=len(soup.find_all('div',{'class':'eachStory'}))\n",
    "    while i<length:\n",
    "        print(str(i+1)+\": \",end='')\n",
    "        print(soup.find_all('div',{'class':'eachStory'})[i].find_all('a')[-1].text)\n",
    "        print(soup.find_all('div',{'class':'eachStory'})[i].find_all('p')[-1].text,end='\\n\\n')\n",
    "        i+=1\n",
    "    "
   ]
  },
  {
   "cell_type": "code",
   "execution_count": 3,
   "id": "98f27f50",
   "metadata": {},
   "outputs": [
    {
     "name": "stdout",
     "output_type": "stream",
     "text": [
      "1: Gold rate today: Yellow metal tops Rs 48,000; silver loses some sheen\n",
      "Gold is often considered an inflation hedge, though reduced stimulus and interest rate hikes push government bond yields up, translating into a higher opportunity cost for holding bullion.\n",
      "\n",
      "2: Brent falls to two-week low after inventory shock\n",
      "Oil prices fell on Wednesday for a second straight day, with Brent hitting its lowest in two weeks after official figures showed a surprise jump in U.S. inventories of crude. Brent crude dropped $1.36, or 1.6%, to $83.22 a barrel by 0130 GMT, a two-week low, having declined by 2.1% in the previous session. U.S. oil fell $1.28, or 1.6%, to $81.38 a barrel, a one-week low, after dropping 2.4% on Wednesday.\n",
      "\n",
      "3: Gold firms as US bond yields weaken; focus on ECB, BOJ meetings\n",
      "Gold prices consolidated near the key $1,800 level on Thursday, supported by a pullback in U.S. bond yields as investors looked forward to key central bank meetings for clues on whether they would consider tightening monetary policy earlier than thought.\n",
      "\n",
      "4: Gold plunges Rs 244; silver tumbles Rs 654\n",
      "In the international market, gold was trading lower at USD 1,787 per ounce and silver declined marginally to USD 23.94 per ounce.\n",
      "\n",
      "5: Gold rate today: Yellow metal slips marginally; silver flat at Rs 65,000\n",
      "In the spot market, the highest purity gold was sold at Rs 48,171 per 10 grams while silver was priced at Rs 65,453 per kg on Tuesday, according to the Indian Bullion and Jewellers Association.\n",
      "\n",
      "6: Brent crude oil price may hit $110 in 2022: Goldman Sachs\n",
      "A commensurate 30% rise in petro product prices in India would mean petrol prices could be near the Rs 150-per-litre mark and diesel Rs 140/ltr. On Tuesday, the price of petrol in the city was Rs 113.4/ltr while diesel was at Rs 104.4/ltr.\n",
      "\n",
      "7: Gold eases on firmer US dollar, yields ahead of central bank meetings\n",
      "Gold prices eased on Wednesday, retreating from the key $1,800 mark, as a stronger U.S. dollar and elevated bond yields dented bullion's safe-haven appeal ahead of key central bank meetings. Spot gold was down 0.2% at $1,788.66 per ounce, as of 0157 GMT. U.S. gold futures dropped 0.2% to $1,790.60.\n",
      "\n",
      "8: Oil falls after increases in US crude, fuel stockpiles\n",
      "Oil prices fell on Wednesday after industry data showed crude oil stockpiles rose more than expected and fuel inventories unexpectedly increased last week in the United States, the world's largest oil consumer. Brent oil futures fell 25 cents, or 0.3%, to $86.15 a barrel after closing at the highest in seven years on Tuesday.\n",
      "\n",
      "9: Gold declines marginally; silver moves lower by Rs 287\n",
      "In the international market, gold traded lower at USD 1,802 per ounce and silver was flat at USD 24.30 per ounce.\n",
      "\n",
      "10: Silver gains Rs 7,800 in four weeks! Did you miss the bus?\n",
      "According to market analysts, strong economic recovery in the US and China has fired up the white metal’s prices globally, after a range-bound industrial demand.\n",
      "\n",
      "11: Commodity strategies: Gold, silver, crude, base metals\n",
      "Here is a look at how different commodities are behaving in today’s market.\n",
      "\n",
      "12: Gold rate today: Yellow metal loses sheen as dollar strengthens; silver below Rs 66,000\n",
      "Ravi Singh, Vice President & Head of Research, Share India said gold is technically in a very strong uptrend taking cues from the Comex Gold which was also supported by increasing worries about problematic price inflation in the US.\n",
      "\n",
      "13: Oil takes breather after latest charge amid tight market\n",
      "Oil prices edged lower on Tuesday, taking a breather from a sustained rally driven by strong demand in the United States, the world's biggest consumer of oil and its products. Brent crude was down 20 cents or 0.2% at $85.79 a barrel by 0143 GMT, after gaining 0.5% on Monday. U.S. oil was down 21 cents or 0.3% at $83.55 a barrel, having finished unchanged the previous session after testing new highs.\n",
      "\n",
      "14: Gold inches lower on dollar uptick; focus on key central bank meetings\n",
      "Gold prices edged lower on Tuesday, weighed down by an uptick in the dollar as investors eye upcoming key central bank meetings this week. Spot gold fell 0.1% to $1,805.96 per ounce by 0116 GMT. U.S. gold futures was flat at $1,806.60.\n",
      "\n",
      "15: Gold rallies Rs 182 tracking global trends; silver slides Rs 178\n",
      "\"Gold prices traded higher with spot gold prices at COMEX trading 0.40 per cent up at USD 1,800 per ounce on Monday,\" HDFC Securities Senior Analyst (Commodities) Tapan Patel said. \n",
      "\n",
      "16: Commodity strategies: Gold, silver, crude, base metals\n",
      "MCX Gold December resistance for the day lies at Rs. 48200 per 10 grams with support at Rs. 47700 per 10 grams\n",
      "\n"
     ]
    }
   ],
   "source": [
    "getnews()\n"
   ]
  },
  {
   "cell_type": "code",
   "execution_count": null,
   "id": "478aa440",
   "metadata": {},
   "outputs": [],
   "source": []
  }
 ],
 "metadata": {
  "kernelspec": {
   "display_name": "Python 3",
   "language": "python",
   "name": "python3"
  },
  "language_info": {
   "codemirror_mode": {
    "name": "ipython",
    "version": 3
   },
   "file_extension": ".py",
   "mimetype": "text/x-python",
   "name": "python",
   "nbconvert_exporter": "python",
   "pygments_lexer": "ipython3",
   "version": "3.8.8"
  }
 },
 "nbformat": 4,
 "nbformat_minor": 5
}
